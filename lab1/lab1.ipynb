{
 "cells": [
  {
   "cell_type": "markdown",
   "metadata": {},
   "source": [
    "# Requirment (1/1)"
   ]
  },
  {
   "cell_type": "code",
   "execution_count": 2,
   "metadata": {},
   "outputs": [],
   "source": [
    "import random\n",
    "import re\n",
    "import math\n",
    "\n",
    "%load_ext autoreload\n",
    "%autoreload 2\n"
   ]
  },
  {
   "cell_type": "code",
   "execution_count": 10,
   "metadata": {},
   "outputs": [],
   "source": [
    "def string2func(string):\n",
    "    replacements = {\n",
    "        '^': '**',\n",
    "        'e': str(math.exp(1)),\n",
    "        'PI': str(math.pi)\n",
    "    }\n",
    "    allowedWords = [\n",
    "        'x',\n",
    "        'e'\n",
    "    ]\n",
    "    for word in re.findall('[a-zA-Z_]+', string):\n",
    "        if word not in allowedWords:\n",
    "            raise ValueError(\n",
    "                '\"{}\" is forbidden to use in math expression'.format(word)\n",
    "            )\n",
    "\n",
    "    for old, new in replacements.items():\n",
    "        string = string.replace(old, new)\n",
    "\n",
    "    def func(x):\n",
    "        return eval(string)\n",
    "\n",
    "    return func\n"
   ]
  },
  {
   "cell_type": "code",
   "execution_count": 5,
   "metadata": {},
   "outputs": [],
   "source": [
    "\n",
    "\n",
    "def monte_carlo(n, a, b, fx):\n",
    "    sum_of_samples = 0\n",
    "    for i in range(n):\n",
    "        x = (b - a) * random.uniform(0, 1) + a\n",
    "        sum_of_samples += fx(x)\n",
    "\n",
    "    return (b - a) * float(sum_of_samples/n)\n"
   ]
  },
  {
   "cell_type": "code",
   "execution_count": 11,
   "metadata": {},
   "outputs": [
    {
     "name": "stdout",
     "output_type": "stream",
     "text": [
      "2.718281828459045\n",
      "4.05053655919342\n"
     ]
    }
   ],
   "source": [
    "\n",
    "n = int(input(\"Enter the number of samples(n): \"))   \n",
    "a = float(input(\"Enter the lower range(a): \"))\n",
    "b = float(input(\"Enter the upper range(b): \"))\n",
    "fx = string2func(input(\"Enter the function (fx): \"))\n",
    "print(monte_carlo(n, a, b, fx))\n",
    "#(15*x^3 + 21*x^2 + 41*x +3)**(1/4.0) * e^(-0.5*x)\n",
    "    \n"
   ]
  },
  {
   "cell_type": "markdown",
   "metadata": {},
   "source": [
    "## How to input the functions\n",
    "1- run the cell above.\n",
    "\n",
    "2- enter first n than a than b than the function.\n",
    "\n",
    "### Note: the function in the pptx file you can copy paste it from the comment at the end of the cell \n"
   ]
  },
  {
   "cell_type": "markdown",
   "metadata": {},
   "source": []
  },
  {
   "cell_type": "markdown",
   "metadata": {},
   "source": [
    "\n",
    "2- enter first n than a than b than the function.\n",
    "\n",
    "### note: the function in the pptx file you can copy paste it from the comment at the end of the cell \n"
   ]
  },
  {
   "cell_type": "markdown",
   "metadata": {},
   "source": [
    "# Requirment(1/2)"
   ]
  },
  {
   "cell_type": "code",
   "execution_count": 12,
   "metadata": {},
   "outputs": [],
   "source": [
    "import scipy.integrate as integrate\n",
    "import matplotlib.pyplot as plt\n"
   ]
  },
  {
   "cell_type": "markdown",
   "metadata": {},
   "source": [
    "## Best value for n\n",
    "we will choose 6500 so it will no do much calculation and the noise is acceptable on it"
   ]
  },
  {
   "cell_type": "code",
   "execution_count": 13,
   "metadata": {},
   "outputs": [
    {
     "data": {
      "text/plain": [
       "[<matplotlib.lines.Line2D at 0x17d4c531730>]"
      ]
     },
     "execution_count": 13,
     "metadata": {},
     "output_type": "execute_result"
    },
    {
     "data": {
      "image/png": "[encoded data removed]",
      "text/plain": [
       "<Figure size 432x288 with 1 Axes>"
      ]
     },
     "metadata": {
      "needs_background": "light"
     },
     "output_type": "display_data"
    }
   ],
   "source": [
    "integral = integrate.quad(fx, a, b)\n",
    "x = []\n",
    "y_exact = []\n",
    "y_approx = []\n",
    "\n",
    "for n in range (100, 10000, 100):\n",
    "    y_exact.append(integral[0])\n",
    "    y_approx.append(monte_carlo(n, a, b, fx))\n",
    "    x.append(n)\n",
    "\n",
    "plt.plot(x, y_exact, 'r')\n",
    "plt.plot(x, y_approx, 'b')"
   ]
  },
  {
   "cell_type": "markdown",
   "metadata": {},
   "source": [
    "# Requirment 2"
   ]
  },
  {
   "cell_type": "code",
   "execution_count": 14,
   "metadata": {},
   "outputs": [
    {
     "data": {
      "image/png": "[encoded data removed]",
      "text/plain": [
       "<Figure size 432x288 with 1 Axes>"
      ]
     },
     "metadata": {
      "needs_background": "light"
     },
     "output_type": "display_data"
    }
   ],
   "source": [
    "monte_carlo_res = []\n",
    "a = 1\n",
    "b = 4\n",
    "n = 1000\n",
    "for i in range(0,500):\n",
    "    monte_carlo_res.append(monte_carlo(n, a, b, fx))\n",
    "plt.hist(monte_carlo_res)\n",
    "length = len(monte_carlo_res)\n",
    "mean = sum(monte_carlo_res) / length\n",
    "deviations = [(x - mean) ** 2 for x in monte_carlo_res]\n",
    "variance = sum(deviations) / length\n",
    "std_dev = math.sqrt(variance)\n"
   ]
  },
  {
   "cell_type": "markdown",
   "metadata": {},
   "source": [
    "## Does it follow a normal distribution?\n",
    "Yes as the graph says"
   ]
  },
  {
   "cell_type": "code",
   "execution_count": 17,
   "metadata": {},
   "outputs": [
    {
     "name": "stdout",
     "output_type": "stream",
     "text": [
      "The standard deviation is equal to 0.02976273674308516\n"
     ]
    }
   ],
   "source": [
    "print(\"The standard deviation is equal to \" + str(std_dev))\n"
   ]
  }
 ],
 "metadata": {
  "interpreter": {
   "hash": "09ba5893860e241ee4d5d788ceea0a705505106117e4e0962de9e13ed24e8ee1"
  },
  "kernelspec": {
   "display_name": "Python 3.8.5 64-bit ('base': conda)",
   "name": "python3"
  },
  "language_info": {
   "codemirror_mode": {
    "name": "ipython",
    "version": 3
   },
   "file_extension": ".py",
   "mimetype": "text/x-python",
   "name": "python",
   "nbconvert_exporter": "python",
   "pygments_lexer": "ipython3",
   "version": "3.8.5"
  },
  "orig_nbformat": 4
 },
 "nbformat": 4,
 "nbformat_minor": 2
}
